{
 "cells": [
  {
   "cell_type": "markdown",
   "metadata": {},
   "source": [
    "## Python Final Project: Sentiment Analysis (Web App) Source Code - Priyanshi Nigam\n",
    "\n",
    "##### The sentiment analysis on Amazon reviews can be found here: https://github.com/priyanshin/python_projects/blob/master/Python_Final_Project.ipynb"
   ]
  },
  {
   "cell_type": "code",
   "execution_count": null,
   "metadata": {
    "collapsed": true
   },
   "outputs": [],
   "source": [
    "# This is a sentiment analysis program where the user can enter text and find the sentiment.\n",
    "# I used the textblob library to do this.\n",
    "\n",
    "# Python File: Sentiment Analysis\n",
    "\n",
    "from flask import Flask, render_template, request, redirect\n",
    "app= Flask(__name__)\n",
    "from textblob import TextBlob\n",
    "def sentiment(text):\n",
    "    if type(text) == float:\n",
    "        text = str(text)\n",
    "    analysis = TextBlob(text)\n",
    "    score = round(analysis.sentiment.polarity,2)\n",
    "    if score > 0:\n",
    "        score_text = 'positive'\n",
    "    elif score  < 0:\n",
    "        score_text = 'negative'\n",
    "    else:\n",
    "        score_text = 'neutral'\n",
    "    score_percent = (str(int(abs(score) * 100)))\n",
    "    if score_percent == '0':\n",
    "\treturn(\"The sentiment is neutral.\")\n",
    "    else:\n",
    "\treturn(\"The sentiment of this text is \" + score_percent + \"% \" + score_text+\".\")\n",
    "\n",
    "@app.route(\"/\", methods=['GET', 'POST'])\n",
    "def index():\n",
    "    text_inputs=\"\"\n",
    "    text_outputs=\"\"\n",
    "    if request.method == 'POST':\n",
    "        text_inputs=request.form[\"text_area\"]\n",
    "    score = sentiment (text_inputs)\n",
    "    return render_template(\"index2.html\", text_input=text_inputs, text_output=score)\n",
    "\n",
    "if __name__== '__main__':\n",
    "   #app.run(host='0.0.0.0',port=80, debug=True)\n",
    "   app.run()\n",
    "\t\t"
   ]
  },
  {
   "cell_type": "code",
   "execution_count": null,
   "metadata": {
    "collapsed": true
   },
   "outputs": [],
   "source": [
    "# HTML\n",
    "\n",
    " <title>Sentiment Analysis</title>\n",
    " <head>\n",
    "    <link href=\"../static/main.css\" rel=\"stylesheet\">\n",
    "    <link href=\"https://fonts.googleapis.com/css?family=Karla\" rel=\"stylesheet\">\n",
    "<style>\n",
    "body {\n",
    "         background-color: #B99AB5;\n",
    "        .box{\n",
    "         display: block;\n",
    "         margin-left: auto;\n",
    "         margin-right: auto;\n",
    "\n",
    "        textarea {\n",
    "        display: block;\n",
    "        margin-left: auto;\n",
    "        margin-right: auto;\n",
    "}\n",
    "\n",
    "}\n",
    "}\n",
    "</style>\n",
    "\n",
    "\n",
    " </head>\n",
    "    <body>\n",
    "      <div class=\"container\">\n",
    "        <h1>Python Final Project: Sentiment Analysis</h1>\n",
    "\t<h1 style = \"color: Maroon\">\n",
    "        <h3>Enter text here: </h3>\n",
    "\t<h3 style = \"color: #5E0D93\">\n",
    "\n",
    "        <form method=\"POST\" action=\"/\">\n",
    "          <textarea title=\"Review\" placeholder=\"Type here\" name=\"text_area\" rows=\"12\"\n",
    "            cols=\"80\">{{text_input}}</textarea> <br><br>\n",
    "          <input type=\"submit\" name=\"action\" value=\"Analyze\" style = \"background: #7EC7B4; color: Maroon\">\n",
    "        </form>\n",
    "        <div ids= \"box\">\n",
    "        <textarea title=\"The sentiment of your review is: \" name=\"result_area\" rows=\"2\" cols=\"50\"\n",
    "         style=\"background:#EEA214; color:#9E003C;\">{{text_output}}</textarea>\n",
    "        </div>\n",
    "        <br><br>\n",
    "        <a href=\"https://github.com/myProject.ipynb\"\n",
    "         target=\"_blank\">View Source Code and Documentation</a>\n",
    "        <br><br>\n",
    "        <a href=\"https://www.linkedin.com/in/priyanshi-nigam/<\" target=\"_blank\">Priyanshi's Linkedin</a>\n",
    "      </div>\n",
    "    </body>\n",
    "</html>"
   ]
  }
 ],
 "metadata": {
  "kernelspec": {
   "display_name": "Python 2",
   "language": "python",
   "name": "python2"
  },
  "language_info": {
   "codemirror_mode": {
    "name": "ipython",
    "version": 2
   },
   "file_extension": ".py",
   "mimetype": "text/x-python",
   "name": "python",
   "nbconvert_exporter": "python",
   "pygments_lexer": "ipython2",
   "version": "2.7.14"
  }
 },
 "nbformat": 4,
 "nbformat_minor": 2
}
